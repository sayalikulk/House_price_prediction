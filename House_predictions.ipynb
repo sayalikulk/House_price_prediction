{
  "nbformat": 4,
  "nbformat_minor": 0,
  "metadata": {
    "colab": {
      "name": "House_predictions.ipynb",
      "provenance": [],
      "authorship_tag": "ABX9TyN3hKApXd6vQKhBhrNbiegv",
      "include_colab_link": true
    },
    "kernelspec": {
      "name": "python3",
      "display_name": "Python 3"
    }
  },
  "cells": [
    {
      "cell_type": "markdown",
      "metadata": {
        "id": "view-in-github",
        "colab_type": "text"
      },
      "source": [
        "<a href=\"https://colab.research.google.com/github/sayalikulk/House_price_prediction/blob/master/House_predictions.ipynb\" target=\"_parent\"><img src=\"https://colab.research.google.com/assets/colab-badge.svg\" alt=\"Open In Colab\"/></a>"
      ]
    },
    {
      "cell_type": "markdown",
      "metadata": {
        "id": "uJNOlHiIpZx3",
        "colab_type": "text"
      },
      "source": [
        "Importing the Libraries "
      ]
    },
    {
      "cell_type": "code",
      "metadata": {
        "id": "7zl9A1a7oqgw",
        "colab_type": "code",
        "outputId": "5ad677a7-31a2-4fe0-c615-07745325a0bf",
        "colab": {
          "base_uri": "https://localhost:8080/",
          "height": 34
        }
      },
      "source": [
        "import pandas as pd\n",
        "import matplotlib.pyplot as plt\n",
        "import tensorflow as tf\n",
        "from utils import *\n",
        "from sklearn.model_selection import train_test_split\n",
        "from tensorflow.keras.models import Sequential\n",
        "from tensorflow.keras.layers import Dense, Dropout\n",
        "from tensorflow.keras.callbacks import EarlyStopping, LambdaCallback\n",
        "\n",
        "%matplotlib inline\n",
        "tf.compat.v1.logging.set_verbosity(tf.compat.v1.logging.ERROR)\n",
        "print('Imported')"
      ],
      "execution_count": 0,
      "outputs": [
        {
          "output_type": "stream",
          "text": [
            "Imported\n"
          ],
          "name": "stdout"
        }
      ]
    },
    {
      "cell_type": "markdown",
      "metadata": {
        "id": "VhlLZGv5pqt8",
        "colab_type": "text"
      },
      "source": [
        "**Importing the data**\n",
        "\n",
        "---\n",
        "\n",
        "\n",
        "The dataset is saved as data.csv file. We will use pandas to take a look of the database"
      ]
    },
    {
      "cell_type": "code",
      "metadata": {
        "id": "HT1QvbaWpFVC",
        "colab_type": "code",
        "outputId": "505c393c-6fbb-4ae9-cd86-a351ffd6a7aa",
        "colab": {
          "base_uri": "https://localhost:8080/",
          "height": 195
        }
      },
      "source": [
        "df = pd.read_csv('data.csv', header=None)\n",
        "df.rename(columns={0: 'serial', 1: 'date', 2:'age', 3:'distance', 4:'stores', 5:'latitude', 6:'longitude', 7: 'price'}, inplace=True)\n",
        "df.head()"
      ],
      "execution_count": 0,
      "outputs": [
        {
          "output_type": "execute_result",
          "data": {
            "text/html": [
              "<div>\n",
              "<style scoped>\n",
              "    .dataframe tbody tr th:only-of-type {\n",
              "        vertical-align: middle;\n",
              "    }\n",
              "\n",
              "    .dataframe tbody tr th {\n",
              "        vertical-align: top;\n",
              "    }\n",
              "\n",
              "    .dataframe thead th {\n",
              "        text-align: right;\n",
              "    }\n",
              "</style>\n",
              "<table border=\"1\" class=\"dataframe\">\n",
              "  <thead>\n",
              "    <tr style=\"text-align: right;\">\n",
              "      <th></th>\n",
              "      <th>serial</th>\n",
              "      <th>date</th>\n",
              "      <th>age</th>\n",
              "      <th>distance</th>\n",
              "      <th>stores</th>\n",
              "      <th>latitude</th>\n",
              "      <th>longitude</th>\n",
              "      <th>price</th>\n",
              "    </tr>\n",
              "  </thead>\n",
              "  <tbody>\n",
              "    <tr>\n",
              "      <th>0</th>\n",
              "      <td>0</td>\n",
              "      <td>2009</td>\n",
              "      <td>21</td>\n",
              "      <td>9</td>\n",
              "      <td>6</td>\n",
              "      <td>84</td>\n",
              "      <td>121</td>\n",
              "      <td>14264</td>\n",
              "    </tr>\n",
              "    <tr>\n",
              "      <th>1</th>\n",
              "      <td>1</td>\n",
              "      <td>2007</td>\n",
              "      <td>4</td>\n",
              "      <td>2</td>\n",
              "      <td>3</td>\n",
              "      <td>86</td>\n",
              "      <td>121</td>\n",
              "      <td>12032</td>\n",
              "    </tr>\n",
              "    <tr>\n",
              "      <th>2</th>\n",
              "      <td>2</td>\n",
              "      <td>2016</td>\n",
              "      <td>18</td>\n",
              "      <td>3</td>\n",
              "      <td>7</td>\n",
              "      <td>90</td>\n",
              "      <td>120</td>\n",
              "      <td>13560</td>\n",
              "    </tr>\n",
              "    <tr>\n",
              "      <th>3</th>\n",
              "      <td>3</td>\n",
              "      <td>2002</td>\n",
              "      <td>13</td>\n",
              "      <td>2</td>\n",
              "      <td>2</td>\n",
              "      <td>80</td>\n",
              "      <td>128</td>\n",
              "      <td>12029</td>\n",
              "    </tr>\n",
              "    <tr>\n",
              "      <th>4</th>\n",
              "      <td>4</td>\n",
              "      <td>2014</td>\n",
              "      <td>25</td>\n",
              "      <td>5</td>\n",
              "      <td>8</td>\n",
              "      <td>81</td>\n",
              "      <td>122</td>\n",
              "      <td>14157</td>\n",
              "    </tr>\n",
              "  </tbody>\n",
              "</table>\n",
              "</div>"
            ],
            "text/plain": [
              "   serial  date  age  distance  stores  latitude  longitude  price\n",
              "0       0  2009   21         9       6        84        121  14264\n",
              "1       1  2007    4         2       3        86        121  12032\n",
              "2       2  2016   18         3       7        90        120  13560\n",
              "3       3  2002   13         2       2        80        128  12029\n",
              "4       4  2014   25         5       8        81        122  14157"
            ]
          },
          "metadata": {
            "tags": []
          },
          "execution_count": 81
        }
      ]
    },
    {
      "cell_type": "code",
      "metadata": {
        "id": "upIxcytxsKS8",
        "colab_type": "code",
        "outputId": "bacd18be-d077-46a6-9aba-acb7d92b9ec2",
        "colab": {
          "base_uri": "https://localhost:8080/",
          "height": 34
        }
      },
      "source": [
        "df.shape"
      ],
      "execution_count": 0,
      "outputs": [
        {
          "output_type": "execute_result",
          "data": {
            "text/plain": [
              "(5000, 8)"
            ]
          },
          "metadata": {
            "tags": []
          },
          "execution_count": 82
        }
      ]
    },
    {
      "cell_type": "markdown",
      "metadata": {
        "id": "-RRbwHM4scTu",
        "colab_type": "text"
      },
      "source": [
        "Check missing data using pandas"
      ]
    },
    {
      "cell_type": "code",
      "metadata": {
        "id": "bws_pUYpsMEC",
        "colab_type": "code",
        "outputId": "f27b5efa-837c-42f6-a825-72a54e01e52d",
        "colab": {
          "base_uri": "https://localhost:8080/",
          "height": 168
        }
      },
      "source": [
        "df.isna().sum()"
      ],
      "execution_count": 0,
      "outputs": [
        {
          "output_type": "execute_result",
          "data": {
            "text/plain": [
              "serial       0\n",
              "date         0\n",
              "age          0\n",
              "distance     0\n",
              "stores       0\n",
              "latitude     0\n",
              "longitude    0\n",
              "price        0\n",
              "dtype: int64"
            ]
          },
          "metadata": {
            "tags": []
          },
          "execution_count": 83
        }
      ]
    },
    {
      "cell_type": "markdown",
      "metadata": {
        "id": "Y-tvHErIt99E",
        "colab_type": "text"
      },
      "source": [
        "Dataset Normalization"
      ]
    },
    {
      "cell_type": "code",
      "metadata": {
        "id": "Mz7We69ps4HV",
        "colab_type": "code",
        "outputId": "d24512ff-1a5f-40f0-9cd6-23c98df640b1",
        "colab": {
          "base_uri": "https://localhost:8080/",
          "height": 195
        }
      },
      "source": [
        "df=df.iloc[:,1:]\n",
        "df_norm=(df-df.mean())/df.std()\n",
        "df_norm.head()"
      ],
      "execution_count": 0,
      "outputs": [
        {
          "output_type": "execute_result",
          "data": {
            "text/html": [
              "<div>\n",
              "<style scoped>\n",
              "    .dataframe tbody tr th:only-of-type {\n",
              "        vertical-align: middle;\n",
              "    }\n",
              "\n",
              "    .dataframe tbody tr th {\n",
              "        vertical-align: top;\n",
              "    }\n",
              "\n",
              "    .dataframe thead th {\n",
              "        text-align: right;\n",
              "    }\n",
              "</style>\n",
              "<table border=\"1\" class=\"dataframe\">\n",
              "  <thead>\n",
              "    <tr style=\"text-align: right;\">\n",
              "      <th></th>\n",
              "      <th>date</th>\n",
              "      <th>age</th>\n",
              "      <th>distance</th>\n",
              "      <th>stores</th>\n",
              "      <th>latitude</th>\n",
              "      <th>longitude</th>\n",
              "      <th>price</th>\n",
              "    </tr>\n",
              "  </thead>\n",
              "  <tbody>\n",
              "    <tr>\n",
              "      <th>0</th>\n",
              "      <td>0.015978</td>\n",
              "      <td>0.181384</td>\n",
              "      <td>1.257002</td>\n",
              "      <td>0.345224</td>\n",
              "      <td>-0.307212</td>\n",
              "      <td>-1.260799</td>\n",
              "      <td>0.350088</td>\n",
              "    </tr>\n",
              "    <tr>\n",
              "      <th>1</th>\n",
              "      <td>-0.350485</td>\n",
              "      <td>-1.319118</td>\n",
              "      <td>-0.930610</td>\n",
              "      <td>-0.609312</td>\n",
              "      <td>0.325301</td>\n",
              "      <td>-1.260799</td>\n",
              "      <td>-1.836486</td>\n",
              "    </tr>\n",
              "    <tr>\n",
              "      <th>2</th>\n",
              "      <td>1.298598</td>\n",
              "      <td>-0.083410</td>\n",
              "      <td>-0.618094</td>\n",
              "      <td>0.663402</td>\n",
              "      <td>1.590328</td>\n",
              "      <td>-1.576456</td>\n",
              "      <td>-0.339584</td>\n",
              "    </tr>\n",
              "    <tr>\n",
              "      <th>3</th>\n",
              "      <td>-1.266643</td>\n",
              "      <td>-0.524735</td>\n",
              "      <td>-0.930610</td>\n",
              "      <td>-0.927491</td>\n",
              "      <td>-1.572238</td>\n",
              "      <td>0.948803</td>\n",
              "      <td>-1.839425</td>\n",
              "    </tr>\n",
              "    <tr>\n",
              "      <th>4</th>\n",
              "      <td>0.932135</td>\n",
              "      <td>0.534444</td>\n",
              "      <td>0.006938</td>\n",
              "      <td>0.981581</td>\n",
              "      <td>-1.255981</td>\n",
              "      <td>-0.945141</td>\n",
              "      <td>0.245266</td>\n",
              "    </tr>\n",
              "  </tbody>\n",
              "</table>\n",
              "</div>"
            ],
            "text/plain": [
              "       date       age  distance    stores  latitude  longitude     price\n",
              "0  0.015978  0.181384  1.257002  0.345224 -0.307212  -1.260799  0.350088\n",
              "1 -0.350485 -1.319118 -0.930610 -0.609312  0.325301  -1.260799 -1.836486\n",
              "2  1.298598 -0.083410 -0.618094  0.663402  1.590328  -1.576456 -0.339584\n",
              "3 -1.266643 -0.524735 -0.930610 -0.927491 -1.572238   0.948803 -1.839425\n",
              "4  0.932135  0.534444  0.006938  0.981581 -1.255981  -0.945141  0.245266"
            ]
          },
          "metadata": {
            "tags": []
          },
          "execution_count": 84
        }
      ]
    },
    {
      "cell_type": "code",
      "metadata": {
        "id": "kLhrCkwztqZC",
        "colab_type": "code",
        "outputId": "76216936-062e-4e66-b957-554e980c6433",
        "colab": {
          "base_uri": "https://localhost:8080/",
          "height": 34
        }
      },
      "source": [
        "y_mean=df['price'].mean()\n",
        "y_std=df['price'].std()\n",
        "\n",
        "def convert_label_value(pred):\n",
        "  return int(pred*y_std+y_mean)\n",
        "print(convert_label_value(0.350088))"
      ],
      "execution_count": 0,
      "outputs": [
        {
          "output_type": "stream",
          "text": [
            "14263\n"
          ],
          "name": "stdout"
        }
      ]
    },
    {
      "cell_type": "markdown",
      "metadata": {
        "id": "_eeqWEhlwUWF",
        "colab_type": "text"
      },
      "source": [
        "Creating training and test sets"
      ]
    },
    {
      "cell_type": "code",
      "metadata": {
        "id": "voqD3fZPvMIu",
        "colab_type": "code",
        "outputId": "a09d1639-2815-4f14-83cc-2c4befe52bd3",
        "colab": {
          "base_uri": "https://localhost:8080/",
          "height": 195
        }
      },
      "source": [
        "x=df_norm.iloc[:,:6]\n",
        "x.head()"
      ],
      "execution_count": 0,
      "outputs": [
        {
          "output_type": "execute_result",
          "data": {
            "text/html": [
              "<div>\n",
              "<style scoped>\n",
              "    .dataframe tbody tr th:only-of-type {\n",
              "        vertical-align: middle;\n",
              "    }\n",
              "\n",
              "    .dataframe tbody tr th {\n",
              "        vertical-align: top;\n",
              "    }\n",
              "\n",
              "    .dataframe thead th {\n",
              "        text-align: right;\n",
              "    }\n",
              "</style>\n",
              "<table border=\"1\" class=\"dataframe\">\n",
              "  <thead>\n",
              "    <tr style=\"text-align: right;\">\n",
              "      <th></th>\n",
              "      <th>date</th>\n",
              "      <th>age</th>\n",
              "      <th>distance</th>\n",
              "      <th>stores</th>\n",
              "      <th>latitude</th>\n",
              "      <th>longitude</th>\n",
              "    </tr>\n",
              "  </thead>\n",
              "  <tbody>\n",
              "    <tr>\n",
              "      <th>0</th>\n",
              "      <td>0.015978</td>\n",
              "      <td>0.181384</td>\n",
              "      <td>1.257002</td>\n",
              "      <td>0.345224</td>\n",
              "      <td>-0.307212</td>\n",
              "      <td>-1.260799</td>\n",
              "    </tr>\n",
              "    <tr>\n",
              "      <th>1</th>\n",
              "      <td>-0.350485</td>\n",
              "      <td>-1.319118</td>\n",
              "      <td>-0.930610</td>\n",
              "      <td>-0.609312</td>\n",
              "      <td>0.325301</td>\n",
              "      <td>-1.260799</td>\n",
              "    </tr>\n",
              "    <tr>\n",
              "      <th>2</th>\n",
              "      <td>1.298598</td>\n",
              "      <td>-0.083410</td>\n",
              "      <td>-0.618094</td>\n",
              "      <td>0.663402</td>\n",
              "      <td>1.590328</td>\n",
              "      <td>-1.576456</td>\n",
              "    </tr>\n",
              "    <tr>\n",
              "      <th>3</th>\n",
              "      <td>-1.266643</td>\n",
              "      <td>-0.524735</td>\n",
              "      <td>-0.930610</td>\n",
              "      <td>-0.927491</td>\n",
              "      <td>-1.572238</td>\n",
              "      <td>0.948803</td>\n",
              "    </tr>\n",
              "    <tr>\n",
              "      <th>4</th>\n",
              "      <td>0.932135</td>\n",
              "      <td>0.534444</td>\n",
              "      <td>0.006938</td>\n",
              "      <td>0.981581</td>\n",
              "      <td>-1.255981</td>\n",
              "      <td>-0.945141</td>\n",
              "    </tr>\n",
              "  </tbody>\n",
              "</table>\n",
              "</div>"
            ],
            "text/plain": [
              "       date       age  distance    stores  latitude  longitude\n",
              "0  0.015978  0.181384  1.257002  0.345224 -0.307212  -1.260799\n",
              "1 -0.350485 -1.319118 -0.930610 -0.609312  0.325301  -1.260799\n",
              "2  1.298598 -0.083410 -0.618094  0.663402  1.590328  -1.576456\n",
              "3 -1.266643 -0.524735 -0.930610 -0.927491 -1.572238   0.948803\n",
              "4  0.932135  0.534444  0.006938  0.981581 -1.255981  -0.945141"
            ]
          },
          "metadata": {
            "tags": []
          },
          "execution_count": 86
        }
      ]
    },
    {
      "cell_type": "code",
      "metadata": {
        "id": "NnRtzLD3wt-1",
        "colab_type": "code",
        "outputId": "86ba82ef-ed15-454f-abcc-ee473536c818",
        "colab": {
          "base_uri": "https://localhost:8080/",
          "height": 118
        }
      },
      "source": [
        "y=df_norm.iloc[:,-1]\n",
        "y.head()"
      ],
      "execution_count": 0,
      "outputs": [
        {
          "output_type": "execute_result",
          "data": {
            "text/plain": [
              "0    0.350088\n",
              "1   -1.836486\n",
              "2   -0.339584\n",
              "3   -1.839425\n",
              "4    0.245266\n",
              "Name: price, dtype: float64"
            ]
          },
          "metadata": {
            "tags": []
          },
          "execution_count": 87
        }
      ]
    },
    {
      "cell_type": "code",
      "metadata": {
        "id": "k6PeCZ1uw_hD",
        "colab_type": "code",
        "outputId": "89d16c70-dc5d-4b9b-b374-42438c707c75",
        "colab": {
          "base_uri": "https://localhost:8080/",
          "height": 235
        }
      },
      "source": [
        "x_arr=x.values\n",
        "y_arr=y.values\n",
        "x_arr"
      ],
      "execution_count": 0,
      "outputs": [
        {
          "output_type": "execute_result",
          "data": {
            "text/plain": [
              "array([[ 0.01597778,  0.18138426,  1.25700164,  0.34522379, -0.30721158,\n",
              "        -1.26079862],\n",
              "       [-0.35048517, -1.31911814, -0.93060999, -0.60931203,  0.32530146,\n",
              "        -1.26079862],\n",
              "       [ 1.29859812, -0.08341028, -0.61809404,  0.66340239,  1.59032754,\n",
              "        -1.57645598],\n",
              "       ...,\n",
              "       [ 1.4818296 , -1.14258845,  1.56951759,  0.02704518,  1.59032754,\n",
              "         0.00183081],\n",
              "       [ 0.19920926,  1.59362182, -0.61809404,  0.02704518, -1.25598114,\n",
              "         0.94880289],\n",
              "       [ 1.66506107, -0.87779391, -1.24312594,  1.2997596 ,  1.59032754,\n",
              "         0.63314553]])"
            ]
          },
          "metadata": {
            "tags": []
          },
          "execution_count": 88
        }
      ]
    },
    {
      "cell_type": "code",
      "metadata": {
        "id": "ZADXVMBTxRIt",
        "colab_type": "code",
        "outputId": "eb890eff-bf40-4cfb-daba-08a1159eb0b2",
        "colab": {
          "base_uri": "https://localhost:8080/",
          "height": 34
        }
      },
      "source": [
        "x_train, x_test, y_train, y_test=train_test_split(x_arr,y_arr,test_size=0.05,random_state=0)\n",
        "x_train.shape,y_train.shape, x_test.shape, y_test.shape"
      ],
      "execution_count": 0,
      "outputs": [
        {
          "output_type": "execute_result",
          "data": {
            "text/plain": [
              "((4750, 6), (4750,), (250, 6), (250,))"
            ]
          },
          "metadata": {
            "tags": []
          },
          "execution_count": 89
        }
      ]
    },
    {
      "cell_type": "markdown",
      "metadata": {
        "id": "GJVxTb_3y3J5",
        "colab_type": "text"
      },
      "source": [
        "Create the model"
      ]
    },
    {
      "cell_type": "code",
      "metadata": {
        "id": "VpjOCdPNydxG",
        "colab_type": "code",
        "outputId": "33be991a-95bd-41c9-ef7c-02cf4f40c0f3",
        "colab": {
          "base_uri": "https://localhost:8080/",
          "height": 286
        }
      },
      "source": [
        "def get_model():\n",
        "  model=Sequential([\n",
        "      Dense(10,input_shape=(6,),activation='relu'),\n",
        "      Dense(20,activation='relu'),\n",
        "      Dense(5,activation='relu'),\n",
        "      Dense(1)\n",
        "  ])\n",
        "  model.compile(\n",
        "      loss='mse',\n",
        "      optimizer='adam',\n",
        "      metrics=['accuracy']\n",
        "  )\n",
        "  return model\n",
        "\n",
        "get_model().summary()"
      ],
      "execution_count": 0,
      "outputs": [
        {
          "output_type": "stream",
          "text": [
            "Model: \"sequential_9\"\n",
            "_________________________________________________________________\n",
            "Layer (type)                 Output Shape              Param #   \n",
            "=================================================================\n",
            "dense_36 (Dense)             (None, 10)                70        \n",
            "_________________________________________________________________\n",
            "dense_37 (Dense)             (None, 20)                220       \n",
            "_________________________________________________________________\n",
            "dense_38 (Dense)             (None, 5)                 105       \n",
            "_________________________________________________________________\n",
            "dense_39 (Dense)             (None, 1)                 6         \n",
            "=================================================================\n",
            "Total params: 401\n",
            "Trainable params: 401\n",
            "Non-trainable params: 0\n",
            "_________________________________________________________________\n"
          ],
          "name": "stdout"
        }
      ]
    },
    {
      "cell_type": "markdown",
      "metadata": {
        "id": "pH0ol1dA0jS4",
        "colab_type": "text"
      },
      "source": [
        "Model training\n",
        "\n",
        "\n",
        "---\n",
        "\n",
        "We can use Early stopping callback from Keras to stop the model training if the validation loss stops decreasing for a few epochs"
      ]
    },
    {
      "cell_type": "code",
      "metadata": {
        "id": "GUtlzDDa0Jjc",
        "colab_type": "code",
        "outputId": "89025d77-f97f-4c40-c420-ba93e9886488",
        "colab": {
          "base_uri": "https://localhost:8080/",
          "height": 857
        }
      },
      "source": [
        "es_cb=EarlyStopping(monitor='val_loss', patience=5) \n",
        "#it will monitor the val_loss for 5 epochs before shutting the training\n",
        "model=get_model()\n",
        "preds_on_untrained=model.predict(x_test)\n",
        "history=model.fit(\n",
        "    x_train,y_train,\n",
        "    validation_data=(x_test, y_test),\n",
        "    epochs=100,\n",
        "    callbacks=[es_cb]\n",
        ")"
      ],
      "execution_count": 0,
      "outputs": [
        {
          "output_type": "stream",
          "text": [
            "Epoch 1/100\n",
            "149/149 [==============================] - 0s 2ms/step - loss: 0.8169 - accuracy: 0.0000e+00 - val_loss: 0.5087 - val_accuracy: 0.0000e+00\n",
            "Epoch 2/100\n",
            "149/149 [==============================] - 0s 2ms/step - loss: 0.3553 - accuracy: 0.0000e+00 - val_loss: 0.2067 - val_accuracy: 0.0000e+00\n",
            "Epoch 3/100\n",
            "149/149 [==============================] - 0s 2ms/step - loss: 0.2033 - accuracy: 0.0000e+00 - val_loss: 0.1696 - val_accuracy: 0.0000e+00\n",
            "Epoch 4/100\n",
            "149/149 [==============================] - 0s 2ms/step - loss: 0.1795 - accuracy: 0.0000e+00 - val_loss: 0.1644 - val_accuracy: 0.0000e+00\n",
            "Epoch 5/100\n",
            "149/149 [==============================] - 0s 2ms/step - loss: 0.1709 - accuracy: 0.0000e+00 - val_loss: 0.1590 - val_accuracy: 0.0000e+00\n",
            "Epoch 6/100\n",
            "149/149 [==============================] - 0s 2ms/step - loss: 0.1663 - accuracy: 0.0000e+00 - val_loss: 0.1573 - val_accuracy: 0.0000e+00\n",
            "Epoch 7/100\n",
            "149/149 [==============================] - 0s 2ms/step - loss: 0.1624 - accuracy: 0.0000e+00 - val_loss: 0.1503 - val_accuracy: 0.0000e+00\n",
            "Epoch 8/100\n",
            "149/149 [==============================] - 0s 2ms/step - loss: 0.1616 - accuracy: 0.0000e+00 - val_loss: 0.1531 - val_accuracy: 0.0000e+00\n",
            "Epoch 9/100\n",
            "149/149 [==============================] - 0s 2ms/step - loss: 0.1603 - accuracy: 0.0000e+00 - val_loss: 0.1518 - val_accuracy: 0.0000e+00\n",
            "Epoch 10/100\n",
            "149/149 [==============================] - 0s 2ms/step - loss: 0.1587 - accuracy: 0.0000e+00 - val_loss: 0.1502 - val_accuracy: 0.0000e+00\n",
            "Epoch 11/100\n",
            "149/149 [==============================] - 0s 2ms/step - loss: 0.1577 - accuracy: 0.0000e+00 - val_loss: 0.1535 - val_accuracy: 0.0000e+00\n",
            "Epoch 12/100\n",
            "149/149 [==============================] - 0s 2ms/step - loss: 0.1573 - accuracy: 0.0000e+00 - val_loss: 0.1523 - val_accuracy: 0.0000e+00\n",
            "Epoch 13/100\n",
            "149/149 [==============================] - 0s 2ms/step - loss: 0.1556 - accuracy: 0.0000e+00 - val_loss: 0.1502 - val_accuracy: 0.0000e+00\n",
            "Epoch 14/100\n",
            "149/149 [==============================] - 0s 2ms/step - loss: 0.1550 - accuracy: 0.0000e+00 - val_loss: 0.1490 - val_accuracy: 0.0000e+00\n",
            "Epoch 15/100\n",
            "149/149 [==============================] - 0s 2ms/step - loss: 0.1548 - accuracy: 0.0000e+00 - val_loss: 0.1509 - val_accuracy: 0.0000e+00\n",
            "Epoch 16/100\n",
            "149/149 [==============================] - 0s 2ms/step - loss: 0.1540 - accuracy: 0.0000e+00 - val_loss: 0.1511 - val_accuracy: 0.0000e+00\n",
            "Epoch 17/100\n",
            "149/149 [==============================] - 0s 2ms/step - loss: 0.1544 - accuracy: 0.0000e+00 - val_loss: 0.1486 - val_accuracy: 0.0000e+00\n",
            "Epoch 18/100\n",
            "149/149 [==============================] - 0s 2ms/step - loss: 0.1541 - accuracy: 0.0000e+00 - val_loss: 0.1512 - val_accuracy: 0.0000e+00\n",
            "Epoch 19/100\n",
            "149/149 [==============================] - 0s 2ms/step - loss: 0.1530 - accuracy: 0.0000e+00 - val_loss: 0.1509 - val_accuracy: 0.0000e+00\n",
            "Epoch 20/100\n",
            "149/149 [==============================] - 0s 2ms/step - loss: 0.1528 - accuracy: 0.0000e+00 - val_loss: 0.1482 - val_accuracy: 0.0000e+00\n",
            "Epoch 21/100\n",
            "149/149 [==============================] - 0s 2ms/step - loss: 0.1520 - accuracy: 0.0000e+00 - val_loss: 0.1527 - val_accuracy: 0.0000e+00\n",
            "Epoch 22/100\n",
            "149/149 [==============================] - 0s 2ms/step - loss: 0.1528 - accuracy: 0.0000e+00 - val_loss: 0.1488 - val_accuracy: 0.0000e+00\n",
            "Epoch 23/100\n",
            "149/149 [==============================] - 0s 2ms/step - loss: 0.1517 - accuracy: 0.0000e+00 - val_loss: 0.1542 - val_accuracy: 0.0000e+00\n",
            "Epoch 24/100\n",
            "149/149 [==============================] - 0s 2ms/step - loss: 0.1516 - accuracy: 0.0000e+00 - val_loss: 0.1560 - val_accuracy: 0.0000e+00\n",
            "Epoch 25/100\n",
            "149/149 [==============================] - 0s 2ms/step - loss: 0.1531 - accuracy: 0.0000e+00 - val_loss: 0.1544 - val_accuracy: 0.0000e+00\n"
          ],
          "name": "stdout"
        }
      ]
    },
    {
      "cell_type": "code",
      "metadata": {
        "id": "N7wR30hf2FTM",
        "colab_type": "code",
        "outputId": "2370d5b2-e61b-465c-ced3-448c9bc6fb58",
        "colab": {
          "base_uri": "https://localhost:8080/",
          "height": 34
        }
      },
      "source": [
        "print(history.history.keys())"
      ],
      "execution_count": 0,
      "outputs": [
        {
          "output_type": "stream",
          "text": [
            "dict_keys(['loss', 'accuracy', 'val_loss', 'val_accuracy'])\n"
          ],
          "name": "stdout"
        }
      ]
    },
    {
      "cell_type": "code",
      "metadata": {
        "id": "_RB_onpQ2U5X",
        "colab_type": "code",
        "colab": {}
      },
      "source": [
        "def plot_loss(history):\n",
        "    h = history.history\n",
        "    x_lim = len(h['loss'])\n",
        "    plt.figure(figsize=(8, 8))\n",
        "    plt.plot(range(x_lim), h['val_loss'], label = 'Validation Loss')\n",
        "    plt.plot(range(x_lim), h['loss'], label = 'Training Loss')\n",
        "    plt.xlabel('Epochs')\n",
        "    plt.ylabel('Loss')\n",
        "    plt.legend()\n",
        "    plt.show()\n",
        "    return                  "
      ],
      "execution_count": 0,
      "outputs": []
    },
    {
      "cell_type": "code",
      "metadata": {
        "id": "1SR7Y9Fa5gMV",
        "colab_type": "code",
        "outputId": "d120925d-f906-41fa-9671-072a6be9b100",
        "colab": {
          "base_uri": "https://localhost:8080/",
          "height": 497
        }
      },
      "source": [
        "plot_loss(history)"
      ],
      "execution_count": 0,
      "outputs": [
        {
          "output_type": "display_data",
          "data": {
            "image/png": "[encoded data removed]",
            "text/plain": [
              "<Figure size 576x576 with 1 Axes>"
            ]
          },
          "metadata": {
            "tags": [],
            "needs_background": "light"
          }
        }
      ]
    },
    {
      "cell_type": "code",
      "metadata": {
        "id": "mWPJbCSt7hhu",
        "colab_type": "code",
        "colab": {}
      },
      "source": [
        "def plot_predictions(preds, y_test):\n",
        "    plt.figure(figsize=(8, 8))\n",
        "    plt.plot(preds, y_test, 'ro')\n",
        "    plt.xlabel('Preds')\n",
        "    plt.ylabel('Labels')\n",
        "    plt.xlim([-0.5, 0.5])\n",
        "    plt.ylim([-0.5, 0.5])\n",
        "    plt.plot([-0.5, 0.5], [-0.5, 0.5], 'b--')\n",
        "    plt.show()\n",
        "    return"
      ],
      "execution_count": 0,
      "outputs": []
    },
    {
      "cell_type": "code",
      "metadata": {
        "id": "FqpgfGTp7q7K",
        "colab_type": "code",
        "colab": {}
      },
      "source": [
        "def compare_predictions(preds1, preds2, y_test):\n",
        "    plt.figure(figsize=(8, 8))\n",
        "    plt.plot(preds1, y_test, 'ro', label='Untrained Model')\n",
        "    plt.plot(preds2, y_test, 'go', label='Trained Model')\n",
        "    plt.xlabel('Preds')\n",
        "    plt.ylabel('Labels')\n",
        "    \n",
        "    y_min = min(min(y_test), min(preds1), min(preds2))\n",
        "    y_max = max(max(y_test), max(preds1), max(preds2))\n",
        "    \n",
        "    plt.xlim([y_min, y_max])\n",
        "    plt.ylim([y_min, y_max])\n",
        "    plt.plot([y_min, y_max], [y_min, y_max], 'b--')\n",
        "    plt.legend()\n",
        "    plt.show()\n",
        "    return"
      ],
      "execution_count": 0,
      "outputs": []
    },
    {
      "cell_type": "code",
      "metadata": {
        "id": "35Uo2Hmw7t2x",
        "colab_type": "code",
        "outputId": "af56abb0-abce-422e-ce52-38e84897f859",
        "colab": {
          "base_uri": "https://localhost:8080/",
          "height": 497
        }
      },
      "source": [
        "preds_on_trained=model.predict(x_test)\n",
        "compare_predictions(preds_on_untrained, preds_on_trained, y_test)"
      ],
      "execution_count": 0,
      "outputs": [
        {
          "output_type": "display_data",
          "data": {
            "image/png": "[encoded data removed]",
            "text/plain": [
              "<Figure size 576x576 with 1 Axes>"
            ]
          },
          "metadata": {
            "tags": [],
            "needs_background": "light"
          }
        }
      ]
    },
    {
      "cell_type": "code",
      "metadata": {
        "id": "prL8sNkN8FhO",
        "colab_type": "code",
        "outputId": "6508a720-5a12-472d-beda-00d2559331f9",
        "colab": {
          "base_uri": "https://localhost:8080/",
          "height": 497
        }
      },
      "source": [
        "price_untrained=[convert_label_value(y) for y in preds_on_untrained]\n",
        "price_trained=[convert_label_value(y) for y in preds_on_trained]\n",
        "price_test=[convert_label_value(y) for y in y_test]\n",
        "\n",
        "compare_predictions(price_untrained, price_trained, price_test)"
      ],
      "execution_count": 0,
      "outputs": [
        {
          "output_type": "display_data",
          "data": {
            "image/png": "[encoded data removed]",
            "text/plain": [
              "<Figure size 576x576 with 1 Axes>"
            ]
          },
          "metadata": {
            "tags": [],
            "needs_background": "light"
          }
        }
      ]
    },
    {
      "cell_type": "code",
      "metadata": {
        "id": "x0c8qCudA47r",
        "colab_type": "code",
        "colab": {}
      },
      "source": [
        ""
      ],
      "execution_count": 0,
      "outputs": []
    }
  ]
}